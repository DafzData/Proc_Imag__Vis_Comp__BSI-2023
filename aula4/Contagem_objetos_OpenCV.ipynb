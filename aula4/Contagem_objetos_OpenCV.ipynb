{
  "nbformat": 4,
  "nbformat_minor": 0,
  "metadata": {
    "colab": {
      "provenance": []
    },
    "kernelspec": {
      "name": "python3",
      "display_name": "Python 3"
    },
    "language_info": {
      "name": "python"
    }
  },
  "cells": [
    {
      "cell_type": "markdown",
      "source": [
        "# **Contagem de Objetos**\n",
        "\n",
        "Contabilizar objetos em imagens de um vídeo também é uma\n",
        "tarefa  frequentemente  atribuída  aos  sistemas  de  Visão\n",
        "Computacional.\n",
        "\n",
        "Este procedimento pode ser usado, por exemplo,\n",
        "para contabilizar o total de carros em um estaciomento, ou o total de\n",
        "vagas disponíveis.\n",
        "\n",
        "O código abaixo mostra  um  algoritmo  para  desempenhar  essa\n",
        "tarefa de contagem.  Um  vídeo  que  apresenta  tampas  coloridas,  entrando  e\n",
        "saindo de cena, será utilizado para isso."
      ],
      "metadata": {
        "id": "zTWoEgkD3i_e"
      }
    },
    {
      "cell_type": "markdown",
      "source": [],
      "metadata": {
        "id": "_HJEeIeJqTb6"
      }
    },
    {
      "cell_type": "code",
      "source": [
        "import cv2\n",
        "import numpy as np\n",
        "from google.colab.patches import cv2_imshow\n",
        "\n",
        "# Inicialização de variáveis\n",
        "totalAnterior = 0  # Variável para armazenar o número de objetos na imagem anterior\n",
        "\n",
        "# Abre o vídeo para processamento\n",
        "video = cv2.VideoCapture(\"contagem-de-objetos-480.mov\")\n",
        "\n",
        "# Loop principal para processar os quadros do vídeo\n",
        "while True:\n",
        "    # Lê o próximo quadro do vídeo\n",
        "    ret, frameRGB = video.read()\n",
        "\n",
        "    # Verifica se o quadro foi lido com sucesso\n",
        "    if not ret:\n",
        "        break  # Saia do loop se não houver mais quadros para ler\n",
        "\n",
        "    # Converte o quadro para escala de cinza\n",
        "    frameCinza = cv2.cvtColor(frameRGB, cv2.COLOR_RGB2GRAY)\n",
        "\n",
        "    # Binariza o quadro (inverte as cores, tornando objetos mais claros sobre fundo escuro)\n",
        "    tipo = cv2.THRESH_BINARY_INV\n",
        "    ret, frameBinarizado = cv2.threshold(frameCinza, 200, 255, tipo)\n",
        "\n",
        "    # Encontra contornos na imagem binarizada\n",
        "    contornos, hierarquia = cv2.findContours(\n",
        "        frameBinarizado, cv2.RETR_TREE, cv2.CHAIN_APPROX_SIMPLE\n",
        "    )\n",
        "\n",
        "    # Calcula o número atual de objetos (contornos) na imagem\n",
        "    totalAtual = len(contornos)\n",
        "\n",
        "    # Verifica se o número de objetos mudou em relação ao quadro anterior\n",
        "    if totalAtual != totalAnterior:\n",
        "        totalAnterior = totalAtual\n",
        "\n",
        "    # Exibe o número de objetos (contornos) no quadro atual\n",
        "    print(totalAtual)\n",
        "\n",
        "    # Exibe o quadro com os objetos destacados\n",
        "    cv2_imshow(frameRGB)\n",
        "\n",
        "    # Verifica se a tecla \"q\" foi pressionada para sair do loop\n",
        "    if cv2.waitKey(1) & 0xFF == ord(\"q\"):\n",
        "        break\n",
        "\n",
        "# Libera o vídeo\n",
        "video.release()\n",
        "\n",
        "# Fecha todas as janelas do OpenCV\n",
        "cv2.destroyAllWindows()\n"
      ],
      "metadata": {
        "id": "G_JEDqtN1qGf"
      },
      "execution_count": null,
      "outputs": []
    }
  ]
}